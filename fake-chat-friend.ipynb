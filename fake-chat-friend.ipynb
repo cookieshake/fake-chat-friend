{
 "cells": [
  {
   "cell_type": "code",
   "execution_count": 1,
   "metadata": {},
   "outputs": [
    {
     "data": {
      "text/html": [
       "<div>\n",
       "<style>\n",
       "    .dataframe thead tr:only-child th {\n",
       "        text-align: right;\n",
       "    }\n",
       "\n",
       "    .dataframe thead th {\n",
       "        text-align: left;\n",
       "    }\n",
       "\n",
       "    .dataframe tbody tr th {\n",
       "        vertical-align: top;\n",
       "    }\n",
       "</style>\n",
       "<table border=\"1\" class=\"dataframe\">\n",
       "  <thead>\n",
       "    <tr style=\"text-align: right;\">\n",
       "      <th></th>\n",
       "      <th>Date</th>\n",
       "      <th>User</th>\n",
       "      <th>Message</th>\n",
       "    </tr>\n",
       "  </thead>\n",
       "  <tbody>\n",
       "    <tr>\n",
       "      <th>count</th>\n",
       "      <td>42825</td>\n",
       "      <td>42825</td>\n",
       "      <td>42825</td>\n",
       "    </tr>\n",
       "    <tr>\n",
       "      <th>unique</th>\n",
       "      <td>40914</td>\n",
       "      <td>6</td>\n",
       "      <td>31376</td>\n",
       "    </tr>\n",
       "    <tr>\n",
       "      <th>top</th>\n",
       "      <td>2017-01-16 20:15:39</td>\n",
       "      <td>박창수</td>\n",
       "      <td>ㄷㄷ</td>\n",
       "    </tr>\n",
       "    <tr>\n",
       "      <th>freq</th>\n",
       "      <td>5</td>\n",
       "      <td>13895</td>\n",
       "      <td>664</td>\n",
       "    </tr>\n",
       "  </tbody>\n",
       "</table>\n",
       "</div>"
      ],
      "text/plain": [
       "                       Date   User Message\n",
       "count                 42825  42825   42825\n",
       "unique                40914      6   31376\n",
       "top     2017-01-16 20:15:39    박창수      ㄷㄷ\n",
       "freq                      5  13895     664"
      ]
     },
     "execution_count": 1,
     "metadata": {},
     "output_type": "execute_result"
    }
   ],
   "source": [
    "import pandas as pd\n",
    "import numpy as np\n",
    "import tensorflow as tf\n",
    "\n",
    "df = pd.read_csv('kakaotalk_export.csv')\n",
    "df.describe()"
   ]
  },
  {
   "cell_type": "code",
   "execution_count": 2,
   "metadata": {
    "collapsed": true
   },
   "outputs": [],
   "source": [
    "df['Message'] = df['Message'].map(lambda m: m.replace('\\n', ''))"
   ]
  },
  {
   "cell_type": "code",
   "execution_count": 3,
   "metadata": {
    "collapsed": true
   },
   "outputs": [],
   "source": [
    "user = ''\n",
    "\n",
    "cs_msg = list()\n",
    "msg_bf = ''\n",
    "for i, row in df.iterrows():\n",
    "    if row['User'] == user:\n",
    "        msg_bf = msg_bf + ' ' + row['Message']\n",
    "    else:\n",
    "        if not msg_bf == '':\n",
    "            cs_msg.append(msg_bf.strip())\n",
    "            msg_bf = ''"
   ]
  },
  {
   "cell_type": "code",
   "execution_count": 4,
   "metadata": {
    "collapsed": true
   },
   "outputs": [],
   "source": [
    "letter_dict = dict()\n",
    "for msg in cs_msg:\n",
    "    for l in msg:\n",
    "        letter_dict[l] = letter_dict[l] + 1 if l in letter_dict else 1\n",
    "        \n",
    "letter_list = ['<<blank>>'] + list(letter_dict.keys())"
   ]
  },
  {
   "cell_type": "code",
   "execution_count": 5,
   "metadata": {
    "collapsed": true
   },
   "outputs": [],
   "source": [
    "numbered_message = list(map(lambda m: [letter_list.index(l) for l in m], cs_msg))\n",
    "numbered_message = [[0] + msg + [0] for msg in numbered_message]"
   ]
  },
  {
   "cell_type": "code",
   "execution_count": 6,
   "metadata": {
    "collapsed": true
   },
   "outputs": [],
   "source": [
    "scan_size = 7\n",
    "def batch(msgs, l_list):\n",
    "    x = list()\n",
    "    y = list()\n",
    "    for msg in msgs:\n",
    "        if len(msg) < scan_size + 1:\n",
    "            x.append(msg + [0] * (scan_size - len(msg)))\n",
    "            y.append(msg[1:] + [0] * (scan_size + 1 - len(msg)))\n",
    "        else:\n",
    "            for i in range(0, len(msg) - (scan_size + 1)):\n",
    "                x.append(msg[i:i+scan_size])\n",
    "                y.append(msg[i+1:i+scan_size+1])\n",
    "    return x, y\n",
    "\n",
    "x = np.matrix(batch(numbered_message, letter_list)[0])\n",
    "y = np.matrix(batch(numbered_message, letter_list)[1])"
   ]
  },
  {
   "cell_type": "code",
   "execution_count": 7,
   "metadata": {
    "collapsed": true
   },
   "outputs": [],
   "source": [
    "def length(sequence):\n",
    "    used = tf.sign(tf.reduce_max(tf.abs(sequence), reduction_indices=2))\n",
    "    length = tf.reduce_sum(used, reduction_indices=1)\n",
    "    length = tf.cast(length, tf.int32)\n",
    "    return length\n",
    "\n",
    "tf.reset_default_graph()\n",
    "\n",
    "X = tf.placeholder(shape=[None, scan_size], dtype=tf.int32)\n",
    "Y = tf.placeholder(shape=[None, scan_size], dtype=tf.int32)\n",
    "\n",
    "batch_size = tf.placeholder(tf.int32)\n",
    "\n",
    "train_oh = tf.one_hot(X, len(letter_list))\n",
    "targets = Y\n",
    "\n",
    "cell = tf.contrib.rnn.BasicLSTMCell(len(letter_list), forget_bias=0.0)\n",
    "cells = tf.contrib.rnn.MultiRNNCell([cell for i in range(5)])\n",
    "state = cell.zero_state(batch_size, dtype=tf.float32)\n",
    "\n",
    "outputs, f_state = tf.nn.dynamic_rnn(cell, train_oh, initial_state=state, sequence_length=length(train_oh))"
   ]
  },
  {
   "cell_type": "code",
   "execution_count": 8,
   "metadata": {
    "collapsed": true
   },
   "outputs": [],
   "source": [
    "outputs = tf.reshape(outputs, [-1, len(letter_list)])\n",
    "\n",
    "w1 = tf.get_variable(shape=[len(letter_list), len(letter_list)], name='weight1')\n",
    "b1 = tf.get_variable(shape=[len(letter_list)], name='bias1')\n",
    "y1 = tf.matmul(outputs, w1) + b1\n",
    "\n",
    "w2 = tf.get_variable(shape=[len(letter_list), len(letter_list)], name='weight2')\n",
    "b2 = tf.get_variable(shape=[len(letter_list)], name='bias2')\n",
    "y2 = tf.matmul(y1, w2) + b2\n",
    "\n",
    "y2 = tf.reshape(y2, [-1, scan_size, len(letter_list)])\n",
    "\n",
    "weights = tf.ones([batch_size, scan_size])\n",
    "sequence_loss = tf.contrib.seq2seq.sequence_loss(logits=y2, targets=targets, weights=weights)\n",
    "loss = tf.reduce_mean(sequence_loss)\n",
    "\n",
    "optimize = tf.train.AdamOptimizer(learning_rate=0.001).minimize(loss)"
   ]
  },
  {
   "cell_type": "code",
   "execution_count": 9,
   "metadata": {
    "collapsed": true
   },
   "outputs": [],
   "source": [
    "sess = tf.Session()\n",
    "sess.run(tf.global_variables_initializer())"
   ]
  },
  {
   "cell_type": "code",
   "execution_count": 11,
   "metadata": {
    "scrolled": true
   },
   "outputs": [
    {
     "name": "stderr",
     "output_type": "stream",
     "text": [
      "\n",
      "  0%|          | 0/100 [00:00<?, ?it/s]\u001b[A\n",
      "  1%|          | 1/100 [00:26<43:44, 26.51s/it]"
     ]
    },
    {
     "name": "stdout",
     "output_type": "stream",
     "text": [
      "1.32299 '잇   고 라'\n"
     ]
    },
    {
     "name": "stderr",
     "output_type": "stream",
     "text": [
      " 11%|█         | 11/100 [04:51<39:23, 26.56s/it]"
     ]
    },
    {
     "name": "stdout",
     "output_type": "stream",
     "text": [
      "0.49126 '있긴 먹고올까'\n"
     ]
    },
    {
     "name": "stderr",
     "output_type": "stream",
     "text": [
      " 21%|██        | 21/100 [09:15<34:57, 26.56s/it]"
     ]
    },
    {
     "name": "stdout",
     "output_type": "stream",
     "text": [
      "0.433198 '있? 먹고올까'\n"
     ]
    },
    {
     "name": "stderr",
     "output_type": "stream",
     "text": [
      " 31%|███       | 31/100 [13:49<31:07, 27.06s/it]"
     ]
    },
    {
     "name": "stdout",
     "output_type": "stream",
     "text": [
      "0.417716 '나? 먹고올까'\n"
     ]
    },
    {
     "name": "stderr",
     "output_type": "stream",
     "text": [
      " 41%|████      | 41/100 [18:12<25:49, 26.26s/it]"
     ]
    },
    {
     "name": "stdout",
     "output_type": "stream",
     "text": [
      "0.407586 '있? 먹고올까'\n"
     ]
    },
    {
     "name": "stderr",
     "output_type": "stream",
     "text": [
      " 51%|█████     | 51/100 [22:35<21:34, 26.42s/it]"
     ]
    },
    {
     "name": "stdout",
     "output_type": "stream",
     "text": [
      "0.395646 '있? 먹고올까'\n"
     ]
    },
    {
     "name": "stderr",
     "output_type": "stream",
     "text": [
      " 61%|██████    | 61/100 [27:01<17:28, 26.89s/it]"
     ]
    },
    {
     "name": "stdout",
     "output_type": "stream",
     "text": [
      "0.393228 '있? 먹고올까'\n"
     ]
    },
    {
     "name": "stderr",
     "output_type": "stream",
     "text": [
      " 71%|███████   | 71/100 [31:28<12:58, 26.84s/it]"
     ]
    },
    {
     "name": "stdout",
     "output_type": "stream",
     "text": [
      "0.3918 '있? 먹고올까'\n"
     ]
    },
    {
     "name": "stderr",
     "output_type": "stream",
     "text": [
      " 81%|████████  | 81/100 [35:53<08:22, 26.47s/it]"
     ]
    },
    {
     "name": "stdout",
     "output_type": "stream",
     "text": [
      "0.403963 '있? 먹고올까'\n"
     ]
    },
    {
     "name": "stderr",
     "output_type": "stream",
     "text": [
      " 91%|█████████ | 91/100 [40:24<04:09, 27.72s/it]"
     ]
    },
    {
     "name": "stdout",
     "output_type": "stream",
     "text": [
      "0.404087 '있? 먹고올까'\n"
     ]
    },
    {
     "name": "stderr",
     "output_type": "stream",
     "text": [
      "100%|██████████| 100/100 [44:29<00:00, 26.96s/it]\n"
     ]
    }
   ],
   "source": [
    "def list_to_seq(l, l_list):\n",
    "    result = list()\n",
    "    for i in l:\n",
    "        result.append(l_list[i])\n",
    "    \n",
    "    return \"'\" + ''.join(result) + \"'\"\n",
    "\n",
    "from tqdm import tqdm\n",
    "\n",
    "for p in tqdm(range(100)):\n",
    "    for i in range(int(len(x) / 100)):\n",
    "        nowX = x[i * 100: (i+1) * 100]\n",
    "        nowY = y[i * 100: (i+1) * 100]\n",
    "        sess.run(optimize, feed_dict={X: nowX, Y: nowY, batch_size: len(nowX)})\n",
    "    \n",
    "    if p % 10 == 0:\n",
    "        c_loss = sess.run(loss, feed_dict={X: nowX, Y: nowY, batch_size: len(nowX)})\n",
    "        sample = sess.run(y2, feed_dict={X: x[998], batch_size: 1})\n",
    "        sample_list = np.argmax(sample, axis=2).reshape(-1)\n",
    "        print(c_loss, list_to_seq(sample_list, letter_list))"
   ]
  },
  {
   "cell_type": "code",
   "execution_count": 12,
   "metadata": {
    "collapsed": true
   },
   "outputs": [],
   "source": [
    "def predict_next(seq):\n",
    "    if len(seq) >= scan_size:\n",
    "        seq = seq[-scan_size:]\n",
    "    else:\n",
    "        seq = seq + [0] * (scan_size-len(seq))\n",
    "        \n",
    "    predict = sess.run(y2, feed_dict={X: [seq], batch_size: 1})\n",
    "    predict_list = np.argmax(predict, axis=2).reshape(-1)\n",
    "    last = predict_list[-1 if len(seq) >= scan_size else len(seq) - 1]\n",
    "    \n",
    "    return last"
   ]
  },
  {
   "cell_type": "code",
   "execution_count": 24,
   "metadata": {},
   "outputs": [
    {
     "data": {
      "text/plain": [
       "\"'오늘 점심은 만들으면 되는거지?킼 아재 안먹지? '\""
      ]
     },
     "execution_count": 24,
     "metadata": {},
     "output_type": "execute_result"
    }
   ],
   "source": [
    "start = '오늘 점심은 '\n",
    "start = [letter_list.index(l) for l in start]\n",
    "\n",
    "for i in range(20):\n",
    "    start.append(predict_next(start))\n",
    "    \n",
    "list_to_seq(start, letter_list)"
   ]
  }
 ],
 "metadata": {
  "kernelspec": {
   "display_name": "Python 3",
   "language": "python",
   "name": "python3"
  },
  "language_info": {
   "codemirror_mode": {
    "name": "ipython",
    "version": 3
   },
   "file_extension": ".py",
   "mimetype": "text/x-python",
   "name": "python",
   "nbconvert_exporter": "python",
   "pygments_lexer": "ipython3",
   "version": "3.6.1"
  }
 },
 "nbformat": 4,
 "nbformat_minor": 2
}
